{
  "cells": [
    {
      "cell_type": "markdown",
      "metadata": {
        "id": "view-in-github",
        "colab_type": "text"
      },
      "source": [
        "<a href=\"https://colab.research.google.com/github/donghyeonan/eel-weight-prediction-with-CNN/blob/main/%EB%B1%80%EC%9E%A5%EC%96%B4.ipynb\" target=\"_parent\"><img src=\"https://colab.research.google.com/assets/colab-badge.svg\" alt=\"Open In Colab\"/></a>"
      ]
    },
    {
      "cell_type": "code",
      "execution_count": null,
      "metadata": {
        "id": "_tveTaHDvSag"
      },
      "outputs": [],
      "source": [
        "import os\n",
        "import numpy as np\n",
        "import pandas as pd\n",
        "import cv2 as cv \n",
        "from google.colab.patches import cv2_imshow # for image display\n",
        "from skimage import io\n",
        "from PIL import Image \n",
        "import matplotlib.pylab as plt\n",
        "from matplotlib.image import imread \n",
        "import json\n",
        "import glob"
      ]
    },
    {
      "cell_type": "code",
      "execution_count": null,
      "metadata": {
        "colab": {
          "base_uri": "https://localhost:8080/"
        },
        "id": "BMPwq_5I1w0X",
        "outputId": "60a0ada1-fb61-451b-d2fc-fb5bd1d5a03d"
      },
      "outputs": [
        {
          "name": "stdout",
          "output_type": "stream",
          "text": [
            "Requirement already satisfied: tqdm in /usr/local/lib/python3.7/dist-packages (4.62.3)\n"
          ]
        }
      ],
      "source": [
        "!pip install tqdm\n",
        "from tqdm import tqdm"
      ]
    },
    {
      "cell_type": "code",
      "execution_count": null,
      "metadata": {
        "colab": {
          "base_uri": "https://localhost:8080/"
        },
        "id": "QTd2bmbwvXeB",
        "outputId": "1e25d5ef-d36d-4ad3-ec21-64427d9db7ca"
      },
      "outputs": [
        {
          "name": "stdout",
          "output_type": "stream",
          "text": [
            "Mounted at /content/drive\n"
          ]
        }
      ],
      "source": [
        "from google.colab import drive\n",
        "drive.mount(\"/content/drive\")"
      ]
    },
    {
      "cell_type": "code",
      "execution_count": null,
      "metadata": {
        "id": "XahGGvEe2o3F"
      },
      "outputs": [],
      "source": [
        "#!pip install -U -q PyDrive\n",
        "#from pydrive.auth import GoogleAuth\n",
        "#from pydrive.drive import GoogleDrive\n",
        "#from google.colab import auth\n",
        "#from oauth2client.client import GoogleCredentials"
      ]
    },
    {
      "cell_type": "code",
      "execution_count": null,
      "metadata": {
        "id": "i3t6f0ce25JJ"
      },
      "outputs": [],
      "source": [
        "#auth.authenticate_user()\n",
        "#gauth = GoogleAuth()\n",
        "#gauth.credentials = GoogleCredentials.get_application_default()\n",
        "#drive = GoogleDrive(gauth)"
      ]
    },
    {
      "cell_type": "code",
      "execution_count": null,
      "metadata": {
        "id": "7rLQCX8yvdt6"
      },
      "outputs": [],
      "source": [
        "# 디렉토리 변경\n",
        "os.chdir('/content/drive/MyDrive/data/뱀장어/dataset/train')"
      ]
    },
    {
      "cell_type": "code",
      "execution_count": null,
      "metadata": {
        "id": "VdsoutmMveNG"
      },
      "outputs": [],
      "source": [
        "train_list = os.listdir()\n",
        "train_list.sort(key = float)\n",
        "json_list = []"
      ]
    },
    {
      "cell_type": "code",
      "execution_count": null,
      "metadata": {
        "colab": {
          "base_uri": "https://localhost:8080/"
        },
        "id": "-TztEZ9eEb-l",
        "outputId": "56bf2c96-9184-4e56-87bd-723bc712470d"
      },
      "outputs": [
        {
          "data": {
            "text/plain": [
              "['10.085',\n",
              " '10.501',\n",
              " '20.055',\n",
              " '20.634',\n",
              " '20.826',\n",
              " '21.020',\n",
              " '21.213',\n",
              " '21.406',\n",
              " '21.599',\n",
              " '21.792',\n",
              " '21.985',\n",
              " '22.371',\n",
              " '23.066',\n",
              " '23.182',\n",
              " '23.530',\n",
              " '23.646',\n",
              " '23.679',\n",
              " '23.879',\n",
              " '23.995',\n",
              " '24.227',\n",
              " '24.294',\n",
              " '24.343',\n",
              " '24.575',\n",
              " '24.7891',\n",
              " '25.027',\n",
              " '25.344',\n",
              " '25.589',\n",
              " '25.76',\n",
              " '25.835',\n",
              " '25.899',\n",
              " '26.339',\n",
              " '26.454',\n",
              " '26.591',\n",
              " '27.009',\n",
              " '27.095',\n",
              " '27.347',\n",
              " '27.564',\n",
              " '27.598',\n",
              " '28.102',\n",
              " '28.120',\n",
              " '28.354',\n",
              " '29.110',\n",
              " '29.362',\n",
              " '29.614',\n",
              " '29.785',\n",
              " '30.118',\n",
              " '30.37',\n",
              " '31.733',\n",
              " '31.874',\n",
              " '32.157',\n",
              " '32.298',\n",
              " '32.439',\n",
              " '32.581',\n",
              " '33.005',\n",
              " '33.287',\n",
              " '33.429',\n",
              " '33.57',\n",
              " '34.639',\n",
              " '36.506',\n",
              " '39.941',\n",
              " '41.003',\n",
              " '42.065',\n",
              " '45.25',\n",
              " '46.319',\n",
              " '47.374',\n",
              " '48.435',\n",
              " '49.014',\n",
              " '49.057',\n",
              " '50.559',\n",
              " '50.613',\n",
              " '51.75',\n",
              " '52.17',\n",
              " '52.207',\n",
              " '52.664',\n",
              " '52.743',\n",
              " '53.727',\n",
              " '54.806',\n",
              " '54.95',\n",
              " '55.283',\n",
              " '55.407',\n",
              " '55.864',\n",
              " '55.868',\n",
              " '56.779',\n",
              " '56.84',\n",
              " '56.93',\n",
              " '57.236',\n",
              " '58.15',\n",
              " '58.397',\n",
              " '59.953',\n",
              " '60.2',\n",
              " '61.693',\n",
              " '65.237',\n",
              " '66.180',\n",
              " '68.78',\n",
              " '70.85',\n",
              " '71.470',\n",
              " '72.089',\n",
              " '72.323',\n",
              " '73.329',\n",
              " '74.095',\n",
              " '74.569',\n",
              " '75.1875',\n",
              " '76.427',\n",
              " '77.638',\n",
              " '77.666',\n",
              " '78.905',\n",
              " '79.525',\n",
              " '82.110',\n",
              " '85.987',\n",
              " '89.864',\n",
              " '92.449',\n",
              " '93.741',\n",
              " '95.034',\n",
              " '96.326',\n",
              " '97.618',\n",
              " '100.203',\n",
              " '102.788',\n",
              " '104.080',\n",
              " '105.373',\n",
              " '106.665',\n",
              " '109.25',\n",
              " '110.186',\n",
              " '113.928',\n",
              " '115.799']"
            ]
          },
          "execution_count": 6,
          "metadata": {},
          "output_type": "execute_result"
        }
      ],
      "source": [
        "train_list"
      ]
    },
    {
      "cell_type": "code",
      "execution_count": null,
      "metadata": {
        "id": "xIvonyDsvdks"
      },
      "outputs": [],
      "source": [
        "# directory 경로 정의\n",
        "url = '/content/drive/MyDrive/data/뱀장어/dataset/train'\n",
        "for i in range(len(train_list)):\n",
        "  json_list.append(os.path.join(url, train_list[i], '*.json'))"
      ]
    },
    {
      "cell_type": "code",
      "execution_count": null,
      "metadata": {
        "id": "QHMnw6LDvjgJ"
      },
      "outputs": [],
      "source": [
        "# json data\n",
        "for i in range(len(train_list)):\n",
        "  j_dat = []\n",
        "  for j in range(len(json_list)):\n",
        "    j_dat.append(sorted(glob.glob(json_list[j])))"
      ]
    },
    {
      "cell_type": "code",
      "execution_count": null,
      "metadata": {
        "colab": {
          "base_uri": "https://localhost:8080/"
        },
        "id": "XC7y3pbZvtLR",
        "outputId": "85f625f6-6b31-4b45-a6a5-163c2f9f3e4d"
      },
      "outputs": [
        {
          "name": "stderr",
          "output_type": "stream",
          "text": [
            "100%|██████████| 124/124 [48:55<00:00, 23.67s/it]\n"
          ]
        }
      ],
      "source": [
        "# total json file\n",
        "tot_json = []\n",
        "for i in tqdm(range(len(j_dat))):\n",
        "  json_files = []\n",
        "  for j in range(len(j_dat[i])):\n",
        "    with open(j_dat[i][j], 'r') as json_file:\n",
        "      json_data = json.load(json_file)\n",
        "    json_files.append(json_data)\n",
        "  tot_json.append(json_files)"
      ]
    },
    {
      "cell_type": "code",
      "execution_count": null,
      "metadata": {
        "id": "PY1YtCks63zY"
      },
      "outputs": [],
      "source": [
        "# 124개 수조에 대해 10개 json x 50장 index 만들기\n",
        "dex = []\n",
        "for i in range(len(train_list)):\n",
        "    b = []\n",
        "    for _ in range(50):\n",
        "        c = []\n",
        "        for j in range(10):\n",
        "            c.append(np.random.randint(len(tot_json[i])))\n",
        "        b.append(c)\n",
        "    dex.append(b)"
      ]
    },
    {
      "cell_type": "code",
      "execution_count": null,
      "metadata": {
        "id": "J0gyG9U_eohX"
      },
      "outputs": [],
      "source": [
        "os.chdir('/content/drive/MyDrive/전처리/train')\n",
        "for i in range(124):\n",
        "    os.mkdir(train_list[i])"
      ]
    },
    {
      "cell_type": "code",
      "execution_count": null,
      "metadata": {
        "colab": {
          "base_uri": "https://localhost:8080/",
          "height": 611
        },
        "id": "QePUM4fM3Mf-",
        "outputId": "2689264b-303f-48ec-ad79-c50da4a27e42"
      },
      "outputs": [
        {
          "name": "stderr",
          "output_type": "stream",
          "text": [
            "100%|██████████| 124/124 [16:41<00:00,  8.07s/it]\n"
          ]
        },
        {
          "data": {
            "image/png": "[encoded data removed]",
            "text/plain": [
              "<Figure size 1440x720 with 1 Axes>"
            ]
          },
          "metadata": {},
          "output_type": "display_data"
        }
      ],
      "source": [
        "plt.figure(figsize = (20,10))\n",
        "plt.xlim(200, 1800)\n",
        "plt.ylim(top = 1080)\n",
        "for i in tqdm(range(124)):\n",
        "    os.chdir(os.path.join('/content/drive/MyDrive/전처리/train', train_list[i]))\n",
        "    for j in range(50):\n",
        "        plt.clf()\n",
        "        for k in range(10):\n",
        "            for l in range(len(tot_json[i][dex[i][j][k]]['data'])):\n",
        "                plt.plot(tot_json[i][dex[i][j][k]]['data'][l]['x'], tot_json[i][dex[i][j][k]]['data'][l]['y'], color = 'gray')\n",
        "        plt.savefig('j' + str(j) + '.jpg')"
      ]
    },
    {
      "cell_type": "markdown",
      "metadata": {
        "id": "vDzxwUGEU7Wb"
      },
      "source": [
        "# CNN"
      ]
    },
    {
      "cell_type": "code",
      "execution_count": null,
      "metadata": {
        "id": "yRf8Oij_U-YJ"
      },
      "outputs": [],
      "source": [
        "import h5py\n",
        "import scipy\n",
        "import tensorflow as tf\n",
        "import tensorflow.keras.layers as tfl\n",
        "import tensorflow_datasets as tfds\n",
        "from tensorflow.python.framework import ops"
      ]
    },
    {
      "cell_type": "code",
      "execution_count": null,
      "metadata": {
        "id": "eaVbroeLVAp9"
      },
      "outputs": [],
      "source": [
        "from tensorflow.keras.models import Sequential\n",
        "from tensorflow.keras.layers import Dense, Conv2D, Flatten, Dropout, MaxPooling2D, BatchNormalization\n",
        "from tensorflow.keras.preprocessing.image import ImageDataGenerator"
      ]
    },
    {
      "cell_type": "code",
      "execution_count": null,
      "metadata": {
        "id": "vp0VfubTjJNc"
      },
      "outputs": [],
      "source": [
        "url = '/content/drive/MyDrive/전처리/train'"
      ]
    },
    {
      "cell_type": "code",
      "execution_count": null,
      "metadata": {
        "colab": {
          "base_uri": "https://localhost:8080/"
        },
        "id": "1-d7DSqUVD1C",
        "outputId": "9fe9dd2c-10fb-4ac6-a3d6-476c09c2a644"
      },
      "outputs": [
        {
          "name": "stdout",
          "output_type": "stream",
          "text": [
            "Found 9200 images belonging to 124 classes.\n"
          ]
        }
      ],
      "source": [
        "# train set 이미지 generator\n",
        "image_gen = ImageDataGenerator(\n",
        "    rescale = 1./255, validation_split = 0.2\n",
        ")\n",
        "\n",
        "train_data_gen = image_gen.flow_from_directory(\n",
        "    directory = url,\n",
        "    shuffle=True,\n",
        "    target_size = (400, 600),\n",
        "    subset=\"training\",\n",
        "\n",
        "    class_mode = 'sparse'\n",
        ")"
      ]
    },
    {
      "cell_type": "code",
      "execution_count": null,
      "metadata": {
        "colab": {
          "base_uri": "https://localhost:8080/"
        },
        "id": "sKBFeKdmVaMt",
        "outputId": "aa8c7d6f-b753-43f1-f6b2-779f7d0a7af7"
      },
      "outputs": [
        {
          "name": "stdout",
          "output_type": "stream",
          "text": [
            "Found 2238 images belonging to 124 classes.\n"
          ]
        }
      ],
      "source": [
        "validation_data_gen = image_gen.flow_from_directory(\n",
        "    directory = url,\n",
        "    shuffle=True,\n",
        "    target_size = (400, 600),\n",
        "    subset=\"validation\",\n",
        "    class_mode = 'sparse'\n",
        ")"
      ]
    },
    {
      "cell_type": "code",
      "execution_count": null,
      "metadata": {
        "id": "eJouxmMGVd48"
      },
      "outputs": [],
      "source": [
        "model = Sequential([\n",
        "    Conv2D(16, 3, padding='same', activation='relu', input_shape=(400,600,3)),\n",
        "    MaxPooling2D(),\n",
        "    Dropout(0.2),\n",
        "    Conv2D(32, 3, padding='same', activation='relu'),\n",
        "    MaxPooling2D(),\n",
        "    Conv2D(64, 3, padding='same', activation='relu'),\n",
        "    MaxPooling2D(),\n",
        "    Dropout(0.2),\n",
        "    Conv2D(128, 3, padding='same', activation='relu'),\n",
        "    MaxPooling2D(),\n",
        "    Dropout(0.2),\n",
        "    Conv2D(128, 3, padding='same', activation='relu'),\n",
        "    MaxPooling2D(),\n",
        "    Dropout(0.2),\n",
        "    Flatten(),\n",
        "    Dense(124),\n",
        "    Dense(1)\n",
        "])"
      ]
    },
    {
      "cell_type": "code",
      "execution_count": null,
      "metadata": {
        "colab": {
          "base_uri": "https://localhost:8080/"
        },
        "id": "ASly9LT8Xrtz",
        "outputId": "5af65194-241d-4ead-b7e6-6496c9b9723b"
      },
      "outputs": [
        {
          "name": "stdout",
          "output_type": "stream",
          "text": [
            "Model: \"sequential_18\"\n",
            "_________________________________________________________________\n",
            " Layer (type)                Output Shape              Param #   \n",
            "=================================================================\n",
            " conv2d_75 (Conv2D)          (None, 400, 600, 16)      448       \n",
            "                                                                 \n",
            " max_pooling2d_50 (MaxPoolin  (None, 200, 300, 16)     0         \n",
            " g2D)                                                            \n",
            "                                                                 \n",
            " dropout_61 (Dropout)        (None, 200, 300, 16)      0         \n",
            "                                                                 \n",
            " conv2d_76 (Conv2D)          (None, 200, 300, 32)      4640      \n",
            "                                                                 \n",
            " max_pooling2d_51 (MaxPoolin  (None, 100, 150, 32)     0         \n",
            " g2D)                                                            \n",
            "                                                                 \n",
            " conv2d_77 (Conv2D)          (None, 100, 150, 64)      18496     \n",
            "                                                                 \n",
            " max_pooling2d_52 (MaxPoolin  (None, 50, 75, 64)       0         \n",
            " g2D)                                                            \n",
            "                                                                 \n",
            " dropout_62 (Dropout)        (None, 50, 75, 64)        0         \n",
            "                                                                 \n",
            " conv2d_78 (Conv2D)          (None, 50, 75, 128)       73856     \n",
            "                                                                 \n",
            " max_pooling2d_53 (MaxPoolin  (None, 25, 37, 128)      0         \n",
            " g2D)                                                            \n",
            "                                                                 \n",
            " dropout_63 (Dropout)        (None, 25, 37, 128)       0         \n",
            "                                                                 \n",
            " conv2d_79 (Conv2D)          (None, 25, 37, 128)       147584    \n",
            "                                                                 \n",
            " max_pooling2d_54 (MaxPoolin  (None, 12, 18, 128)      0         \n",
            " g2D)                                                            \n",
            "                                                                 \n",
            " dropout_64 (Dropout)        (None, 12, 18, 128)       0         \n",
            "                                                                 \n",
            " flatten_18 (Flatten)        (None, 27648)             0         \n",
            "                                                                 \n",
            " dense_44 (Dense)            (None, 124)               3428476   \n",
            "                                                                 \n",
            " dense_45 (Dense)            (None, 1)                 125       \n",
            "                                                                 \n",
            "=================================================================\n",
            "Total params: 3,673,625\n",
            "Trainable params: 3,673,625\n",
            "Non-trainable params: 0\n",
            "_________________________________________________________________\n"
          ]
        }
      ],
      "source": [
        "model.summary()"
      ]
    },
    {
      "cell_type": "code",
      "execution_count": null,
      "metadata": {
        "id": "GdZX4mmbWYI2"
      },
      "outputs": [],
      "source": [
        "model.compile(optimizer='Adam',\n",
        "              loss='mean_absolute_error',\n",
        "              metrics=['accuracy'])"
      ]
    },
    {
      "cell_type": "code",
      "execution_count": null,
      "metadata": {
        "id": "mDGERbl-XDwM"
      },
      "outputs": [],
      "source": [
        "batch_size = 50\n",
        "epochs = 20"
      ]
    },
    {
      "cell_type": "code",
      "execution_count": null,
      "metadata": {
        "colab": {
          "background_save": true,
          "base_uri": "https://localhost:8080/"
        },
        "id": "sxmYEtl7XFUV",
        "outputId": "01fcac2e-0efe-48bd-9958-faf80fa5df97"
      },
      "outputs": [
        {
          "name": "stdout",
          "output_type": "stream",
          "text": [
            "Epoch 1/20\n",
            "184/184 [==============================] - 45s 243ms/step - loss: 22.2519 - accuracy: 0.0087 - val_loss: 25.6906 - val_accuracy: 0.0092\n",
            "Epoch 2/20\n",
            "184/184 [==============================] - 45s 245ms/step - loss: 22.1809 - accuracy: 0.0087 - val_loss: 24.1251 - val_accuracy: 0.0078\n",
            "Epoch 3/20\n",
            "184/184 [==============================] - 45s 246ms/step - loss: 22.0296 - accuracy: 0.0104 - val_loss: 28.3240 - val_accuracy: 0.0071\n",
            "Epoch 4/20\n",
            "184/184 [==============================] - 45s 247ms/step - loss: 21.9570 - accuracy: 0.0099 - val_loss: 27.9660 - val_accuracy: 0.0092\n",
            "Epoch 5/20\n",
            "184/184 [==============================] - 45s 243ms/step - loss: 22.2194 - accuracy: 0.0082 - val_loss: 24.3207 - val_accuracy: 0.0078\n",
            "Epoch 6/20\n",
            "184/184 [==============================] - 45s 243ms/step - loss: 22.0202 - accuracy: 0.0097 - val_loss: 23.9880 - val_accuracy: 0.0078\n",
            "Epoch 7/20\n",
            "184/184 [==============================] - 44s 238ms/step - loss: 21.7356 - accuracy: 0.0085 - val_loss: 24.6361 - val_accuracy: 0.0092\n",
            "Epoch 8/20\n",
            "184/184 [==============================] - 44s 238ms/step - loss: 21.6953 - accuracy: 0.0094 - val_loss: 25.5381 - val_accuracy: 0.0085\n",
            "Epoch 9/20\n",
            "184/184 [==============================] - 44s 241ms/step - loss: 21.8902 - accuracy: 0.0095 - val_loss: 24.9883 - val_accuracy: 0.0064\n",
            "Epoch 10/20\n",
            "184/184 [==============================] - 44s 239ms/step - loss: 21.9209 - accuracy: 0.0094 - val_loss: 24.6821 - val_accuracy: 0.0092\n",
            "Epoch 11/20\n",
            "184/184 [==============================] - 44s 239ms/step - loss: 21.5369 - accuracy: 0.0095 - val_loss: 24.6737 - val_accuracy: 0.0078\n",
            "Epoch 12/20\n",
            "184/184 [==============================] - 44s 240ms/step - loss: 21.6655 - accuracy: 0.0092 - val_loss: 24.1587 - val_accuracy: 0.0114\n",
            "Epoch 13/20\n",
            "184/184 [==============================] - 45s 242ms/step - loss: 21.4810 - accuracy: 0.0088 - val_loss: 24.2507 - val_accuracy: 0.0085\n"
          ]
        }
      ],
      "source": [
        "history = model.fit(\n",
        "    train_data_gen,\n",
        "    steps_per_epoch= 9200 // batch_size,\n",
        "    epochs=epochs,\n",
        "    validation_data=validation_data_gen,\n",
        "    validation_steps= 2238 // batch_size,\n",
        "    callbacks = [tf.keras.callbacks.EarlyStopping(\n",
        "        monitor='val_loss',\n",
        "        min_delta=0.01,\n",
        "       patience=7\n",
        "    )]\n",
        ")"
      ]
    },
    {
      "cell_type": "code",
      "execution_count": null,
      "metadata": {
        "id": "y1Q7G4lQCkXM"
      },
      "outputs": [],
      "source": [
        "os.chdir('/content/drive/MyDrive/전처리')\n",
        "model.save('pre1.h5')"
      ]
    },
    {
      "cell_type": "code",
      "execution_count": null,
      "metadata": {
        "id": "X4nC1lez4Uyh"
      },
      "outputs": [],
      "source": [
        "#os.chdir('/content/drive/MyDrive/data/뱀장어/dataset')\n",
        "#m = tf.keras.models.load_model('model_2.h5')"
      ]
    },
    {
      "cell_type": "code",
      "execution_count": null,
      "metadata": {
        "colab": {
          "base_uri": "https://localhost:8080/"
        },
        "id": "8mDA1q2D4VxN",
        "outputId": "1a8f0f50-6d79-4ca3-aba2-fb24233451bd"
      },
      "outputs": [
        {
          "name": "stdout",
          "output_type": "stream",
          "text": [
            "Epoch 1/30\n",
            "77/77 [==============================] - 66s 861ms/step - loss: 5.1516 - accuracy: 0.0084 - val_loss: 27.4861 - val_accuracy: 0.0084\n",
            "Epoch 2/30\n",
            "77/77 [==============================] - 66s 861ms/step - loss: 5.1560 - accuracy: 0.0076 - val_loss: 34.5333 - val_accuracy: 0.0074\n",
            "Epoch 3/30\n",
            "77/77 [==============================] - 66s 859ms/step - loss: 5.1440 - accuracy: 0.0084 - val_loss: 28.1415 - val_accuracy: 0.0105\n",
            "Epoch 4/30\n",
            "77/77 [==============================] - 67s 862ms/step - loss: 5.2233 - accuracy: 0.0102 - val_loss: 21.7216 - val_accuracy: 0.0084\n",
            "Epoch 5/30\n",
            "77/77 [==============================] - 66s 861ms/step - loss: 5.0880 - accuracy: 0.0065 - val_loss: 19.6985 - val_accuracy: 0.0074\n",
            "Epoch 6/30\n",
            "77/77 [==============================] - 66s 858ms/step - loss: 5.0514 - accuracy: 0.0079 - val_loss: 35.0677 - val_accuracy: 0.0074\n",
            "Epoch 7/30\n",
            "77/77 [==============================] - 66s 860ms/step - loss: 5.2646 - accuracy: 0.0081 - val_loss: 29.7761 - val_accuracy: 0.0084\n",
            "Epoch 8/30\n",
            "77/77 [==============================] - 67s 871ms/step - loss: 5.1251 - accuracy: 0.0091 - val_loss: 33.4205 - val_accuracy: 0.0074\n",
            "Epoch 9/30\n",
            "77/77 [==============================] - 65s 842ms/step - loss: 4.9564 - accuracy: 0.0094 - val_loss: 23.1507 - val_accuracy: 0.0053\n",
            "Epoch 10/30\n",
            "77/77 [==============================] - 65s 844ms/step - loss: 4.8260 - accuracy: 0.0073 - val_loss: 23.4147 - val_accuracy: 0.0095\n",
            "Epoch 11/30\n",
            "77/77 [==============================] - 66s 854ms/step - loss: 4.9825 - accuracy: 0.0101 - val_loss: 26.8721 - val_accuracy: 0.0074\n",
            "Epoch 12/30\n",
            "77/77 [==============================] - 66s 849ms/step - loss: 5.0422 - accuracy: 0.0105 - val_loss: 38.7940 - val_accuracy: 0.0063\n"
          ]
        }
      ],
      "source": [
        "history = model.fit(\n",
        "    train_data_gen,\n",
        "    steps_per_epoch= 4960 // batch_size,\n",
        "    epochs=epochs,\n",
        "    validation_data=validation_data_gen,\n",
        "    validation_steps= 1240 // batch_size,\n",
        "    callbacks = [tf.keras.callbacks.EarlyStopping(\n",
        "        monitor='val_loss',\n",
        "        min_delta=0.01,\n",
        "        patience=7\n",
        "    )]\n",
        ")"
      ]
    },
    {
      "cell_type": "code",
      "execution_count": null,
      "metadata": {
        "id": "38JP62sISivA"
      },
      "outputs": [],
      "source": [
        "os.chdir('/content/drive/MyDrive/data/뱀장어/dataset')\n",
        "model.save('model_3.h5')"
      ]
    },
    {
      "cell_type": "markdown",
      "metadata": {
        "id": "dEiNKLiCDkm5"
      },
      "source": [
        "# 최종 prediction"
      ]
    },
    {
      "cell_type": "code",
      "execution_count": null,
      "metadata": {
        "id": "vOyWu_e0DvOD"
      },
      "outputs": [],
      "source": [
        "# 디렉토리 변경\n",
        "os.chdir('/content/drive/MyDrive/data/뱀장어/dataset/test')\n",
        "url = '/content/drive/MyDrive/data/뱀장어/dataset/test'"
      ]
    },
    {
      "cell_type": "code",
      "execution_count": null,
      "metadata": {
        "id": "92HJmnRADjz2"
      },
      "outputs": [],
      "source": [
        "test_list = os.listdir()\n",
        "json_list = []\n",
        "image_list = []"
      ]
    },
    {
      "cell_type": "code",
      "execution_count": null,
      "metadata": {
        "id": "SY53CjiBD11t"
      },
      "outputs": [],
      "source": [
        "# directory 경로 정의\n",
        "for i in range(len(test_list)):\n",
        "  json_list.append(os.path.join(url, test_list[i], '*.json'))\n",
        "for i in range(len(test_list)):\n",
        "  image_list.append(os.path.join(url, test_list[i], '*.jpg'))"
      ]
    },
    {
      "cell_type": "code",
      "execution_count": null,
      "metadata": {
        "id": "AIRZPwjqvDOG"
      },
      "outputs": [],
      "source": [
        "# 사진 data\n",
        "for i in range(len(test_list)):\n",
        "  i_dat = []\n",
        "  for j in range(len(json_list)):\n",
        "    i_dat.append(sorted(glob.glob(image_list[j])))"
      ]
    },
    {
      "cell_type": "code",
      "execution_count": null,
      "metadata": {
        "id": "38OT2kr_D2Up"
      },
      "outputs": [],
      "source": [
        "# json data\n",
        "for i in range(len(test_list)):\n",
        "  j_dat = []\n",
        "  for j in range(len(json_list)):\n",
        "    j_dat.append(sorted(glob.glob(json_list[j])))"
      ]
    },
    {
      "cell_type": "code",
      "execution_count": null,
      "metadata": {
        "colab": {
          "base_uri": "https://localhost:8080/"
        },
        "id": "gLWY-LPVEKbg",
        "outputId": "49a33307-1a33-4628-d7b7-f7b29bd8fa81"
      },
      "outputs": [
        {
          "name": "stderr",
          "output_type": "stream",
          "text": [
            "100%|██████████| 85/85 [1:13:19<00:00, 51.76s/it]\n"
          ]
        }
      ],
      "source": [
        "# total json file\n",
        "tot_json = []\n",
        "for i in tqdm(range(len(j_dat))):\n",
        "  json_files = []\n",
        "  for j in range(len(j_dat[i])):\n",
        "    with open(j_dat[i][j], 'r') as json_file:\n",
        "      json_data = json.load(json_file)\n",
        "    json_files.append(json_data)\n",
        "  tot_json.append(json_files)"
      ]
    },
    {
      "cell_type": "code",
      "execution_count": null,
      "metadata": {
        "id": "mHrzcfqlEm4b"
      },
      "outputs": [],
      "source": [
        "dex = []\n",
        "for i in range(len(test_list)):\n",
        "    b = []\n",
        "    for _ in range(50):\n",
        "        c = []\n",
        "        for j in range(10):\n",
        "            c.append(np.random.randint(len(tot_json[i])))\n",
        "        b.append(c)\n",
        "    dex.append(b)"
      ]
    },
    {
      "cell_type": "code",
      "execution_count": null,
      "metadata": {
        "id": "djCfc2tyMJxT"
      },
      "outputs": [],
      "source": [
        "url = '/content/drive/MyDrive/전처리/test'"
      ]
    },
    {
      "cell_type": "code",
      "execution_count": null,
      "metadata": {
        "id": "uIH7Yz_tl_lj"
      },
      "outputs": [],
      "source": [
        "os.chdir(url)\n",
        "for i in range(len(test_list)):\n",
        "    os.mkdir(test_list[i])"
      ]
    },
    {
      "cell_type": "code",
      "execution_count": null,
      "metadata": {
        "colab": {
          "base_uri": "https://localhost:8080/",
          "height": 611
        },
        "id": "FJ-SN7hhEqml",
        "outputId": "3226174d-5013-4961-f724-c5894e42fedd"
      },
      "outputs": [
        {
          "name": "stderr",
          "output_type": "stream",
          "text": [
            "100%|██████████| 85/85 [09:39<00:00,  6.82s/it]\n"
          ]
        },
        {
          "data": {
            "image/png": "[encoded data removed]",
            "text/plain": [
              "<Figure size 1440x720 with 1 Axes>"
            ]
          },
          "metadata": {},
          "output_type": "display_data"
        }
      ],
      "source": [
        "plt.figure(figsize = (20,10))\n",
        "plt.xlim(200, 1800)\n",
        "plt.ylim(top = 1080)\n",
        "for i in tqdm(range(len(test_list))):\n",
        "    os.chdir(os.path.join(url, test_list[i]))\n",
        "    for j in range(50):\n",
        "        plt.clf()\n",
        "        for k in range(10):\n",
        "            for l in range(len(tot_json[i][dex[i][j][k]]['data'])):\n",
        "                plt.plot(tot_json[i][dex[i][j][k]]['data'][l]['x'], tot_json[i][dex[i][j][k]]['data'][l]['y'], color = 'gray')\n",
        "        plt.savefig('j' + str(j) + '.jpg')"
      ]
    },
    {
      "cell_type": "code",
      "execution_count": null,
      "metadata": {
        "id": "dJO-3e8JPRiV"
      },
      "outputs": [],
      "source": [
        "from tensorflow.keras.models import Sequential\n",
        "from tensorflow.keras.layers import Dense, Conv2D, Flatten, Dropout, MaxPooling2D, BatchNormalization\n",
        "from tensorflow.keras.preprocessing.image import ImageDataGenerator"
      ]
    },
    {
      "cell_type": "code",
      "execution_count": null,
      "metadata": {
        "id": "-MEklWrKmMcP"
      },
      "outputs": [],
      "source": [
        "os.chdir(url)"
      ]
    },
    {
      "cell_type": "code",
      "execution_count": null,
      "metadata": {
        "colab": {
          "base_uri": "https://localhost:8080/"
        },
        "id": "teqWerNLPw1d",
        "outputId": "3554a104-3f7a-4a29-bf5e-00b7e92301c3"
      },
      "outputs": [
        {
          "name": "stdout",
          "output_type": "stream",
          "text": [
            "['ZiRGrtFxEb', 'zGVYSzqTOq', 'YWF4peZF2d', 'yyYdnAwplY', 'ZjELqS2JtS', 'Zbeh6lKOIL', 'YUpNjdtBcS', 'ya75FdleJX', 'Y5j5cND6WL', 'xZQH4hLHot', 'XAmjeOrBx0', 'xwlBbazGdz', 'wQTpHfVv6B', 'v95xbKT8nX', 'UCQyj4n1rI', 'xSnT9ciFWW', 'wHajUOQy6P', 'X4HQdtzMpF', 'vqwg4buZTn', 'u1yCf24yuq', 'Trok7zmEXk', 'tECFORl3Fn', 'TAq56NbaKj', 'swUIZhzv5b', 'sxwNnic2bV', 'tq0Q4lPEyN', 'TdKC34lujM', 'tQfalvEiYm', 'SzRk9m0kkv', 'sWmplrUJbl', 'SQ1MYDduAD', 'reRy86u4lX', 'OOCwtre5Pu', 'qHZwDnIa3B', 'nfYxbxbULQ', 'QSaRNpaAxi', 'qhJ2pADf7o', 'pY7VFztZI0', 'rwbWJteGDa', 'QXZXg78Ez1', 'NArDiGh8gw', 'l6GVi4ee0g', 'MijVDHVcap', 'L53qyArvg0', 'JZkEnznMDW', 'MXXkhMBpQC', 'mrlUpGQsYr', 'MLsIqBZKfk', 'lgvc7w93o1', 'K1iKAPTiNV', 'JXqYTYUpqF', 'jKyRSnIsZ3', 'dPgtU0u95r', 'gGqqel3cTv', 'FBhju4brKK', 'hzFdFy7vsF', 'irhq8wNNwt', 'e1D4Cy96yc', 'fP0GkyqpkF', 'Io2LMFqcmM', 'DvqVNumVEJ', 'GTApFLhsh3', 'dnNNw4C2TO', 'dnJNQ0Nqrm', 'dl2b8kIhRe', '7ecRTWUNos', 'DBQDA1yGoy', 'ckN3A3Edwq', 'CsLcMd7ujI', 'DeC6HeH6ca', 'a7IzapJF2P', 'BEISiHTJqu', '7RidkTh3cm', 'A4HjfzJtEB', '6b5zhx6e6z', '4qebcwu5xK', '3AT4ivS98X', '49UmJQBya0', '4Tth2CGXRE', '57lQoriOQf', '4SJmIOpm84', '4s82fRPDo7', '4ne9xaXHqZ', '31PsozUNAW', '1I2EkxetCZ', 'model_3.h5']\n"
          ]
        }
      ],
      "source": [
        "test_list = os.listdir()\n",
        "print(test_list)"
      ]
    },
    {
      "cell_type": "code",
      "execution_count": null,
      "metadata": {
        "colab": {
          "base_uri": "https://localhost:8080/"
        },
        "id": "QP-mr7nMLNk1",
        "outputId": "4c60d950-d1ff-43e4-fecb-d876f9adf2b3"
      },
      "outputs": [
        {
          "name": "stdout",
          "output_type": "stream",
          "text": [
            "Found 4250 images belonging to 85 classes.\n"
          ]
        }
      ],
      "source": [
        "# train set 이미지 generator\n",
        "image_gen = ImageDataGenerator(\n",
        "    rescale = 1./255\n",
        ")\n",
        "\n",
        "test_data_gen = image_gen.flow_from_directory(\n",
        "    directory = url,\n",
        "    shuffle=False,\n",
        "    color_mode = 'grayscale',\n",
        "    batch_size = 50,\n",
        "    target_size = (400, 600),\n",
        "    subset=\"training\",\n",
        "    class_mode = 'sparse'\n",
        ")"
      ]
    },
    {
      "cell_type": "code",
      "execution_count": null,
      "metadata": {
        "id": "ydRDtvxIOUM4"
      },
      "outputs": [],
      "source": [
        "prediction = model.predict(test_data_gen)"
      ]
    },
    {
      "cell_type": "markdown",
      "metadata": {
        "id": "mjM5O4lOm9n-"
      },
      "source": [
        "### 이미지 리스트"
      ]
    },
    {
      "cell_type": "code",
      "execution_count": null,
      "metadata": {
        "id": "RqHTY1P3nCiJ"
      },
      "outputs": [],
      "source": [
        "os.chdir('/content/drive/MyDrive/전처리/test')\n",
        "test_list = os.listdir()\n",
        "image_list = []"
      ]
    },
    {
      "cell_type": "code",
      "execution_count": null,
      "metadata": {
        "id": "LJesDrXWnJo0"
      },
      "outputs": [],
      "source": [
        "for i in range(len(test_list)):\n",
        "  image_list.append(os.path.join(url, test_list[i], '*.jpg'))\n",
        "\n",
        "# 사진 data\n",
        "for i in range(len(test_list)):\n",
        "  i_dat = []\n",
        "  for j in range(len(image_list)):\n",
        "    i_dat.append(sorted(glob.glob(image_list[j])))"
      ]
    },
    {
      "cell_type": "code",
      "execution_count": null,
      "metadata": {
        "id": "-7eZgRzAY5tL"
      },
      "outputs": [],
      "source": [
        "pred = []\n",
        "pred.append(np.mean(prediction[0:len(i_dat[0])]))"
      ]
    },
    {
      "cell_type": "code",
      "execution_count": null,
      "metadata": {
        "id": "Dai2TNDFpkXB"
      },
      "outputs": [],
      "source": [
        "for i in range(len(test_list)-1):\n",
        "    pred.append(np.mean(prediction[len(i_dat[i]):len(i_dat[i]) + len(i_dat[i+1])]))"
      ]
    },
    {
      "cell_type": "code",
      "execution_count": null,
      "metadata": {
        "id": "Z6vpfD_Aoy_2"
      },
      "outputs": [],
      "source": [
        "os.chdir('/content/drive/MyDrive/전처리')"
      ]
    },
    {
      "cell_type": "code",
      "execution_count": null,
      "metadata": {
        "id": "65kVr6ZyyUsS"
      },
      "outputs": [],
      "source": [
        "ans = pd.DataFrame({'ImageDir' : test_list,\n",
        "                    'AvgWeight' : pred})"
      ]
    },
    {
      "cell_type": "code",
      "execution_count": null,
      "metadata": {
        "id": "tVJrxihPyvtG"
      },
      "outputs": [],
      "source": [
        "ans.to_csv('ans.csv')"
      ]
    },
    {
      "cell_type": "code",
      "execution_count": null,
      "metadata": {
        "id": "VqBnt35ErTMO"
      },
      "outputs": [],
      "source": [
        ""
      ]
    },
    {
      "cell_type": "code",
      "execution_count": null,
      "metadata": {
        "id": "TV7PH0i904AT"
      },
      "outputs": [],
      "source": [
        ""
      ]
    }
  ],
  "metadata": {
    "accelerator": "GPU",
    "colab": {
      "machine_shape": "hm",
      "name": "뱀_1.ipynb",
      "provenance": [],
      "authorship_tag": "ABX9TyPQZ/PZlxZC+dAywpWh1eiy",
      "include_colab_link": true
    },
    "kernelspec": {
      "display_name": "Python 3",
      "name": "python3"
    },
    "language_info": {
      "name": "python"
    }
  },
  "nbformat": 4,
  "nbformat_minor": 0
}